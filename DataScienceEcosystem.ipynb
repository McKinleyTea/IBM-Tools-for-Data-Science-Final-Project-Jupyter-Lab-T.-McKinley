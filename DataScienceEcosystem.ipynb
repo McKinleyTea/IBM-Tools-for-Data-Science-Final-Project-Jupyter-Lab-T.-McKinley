{
 "cells": [
  {
   "cell_type": "markdown",
   "id": "802d875b-8e59-4086-8603-4c589e4b10ad",
   "metadata": {},
   "source": [
    "# Data Science Tools and Ecosystem"
   ]
  },
  {
   "cell_type": "markdown",
   "id": "93106a7b-0a12-4498-9fde-907c8d715918",
   "metadata": {},
   "source": [
    "### In this notebook, Data Science Tools and Ecosystem are summarized."
   ]
  },
  {
   "cell_type": "markdown",
   "id": "20ad79a2-cfc1-4d11-ab0c-a12a417e332c",
   "metadata": {},
   "source": [
    "**Objectives:**\n",
    "* List popular languages for Data Science\n",
    "* List common libraries used in Data Science\n",
    "* Create table of Data Science tools\n",
    "* Perform basic arithmetic functions in Python code\n",
    "* Demonstrate mastery of markdown syntax "
   ]
  },
  {
   "cell_type": "markdown",
   "id": "8f20814a-5634-4d95-abf6-daa5ca836444",
   "metadata": {},
   "source": [
    "#### Some of the popular languages that Data Scientists use are:\n",
    "1. Python\n",
    "2. R\n",
    "3. SQL\n",
    "4. Java\n",
    "5. Julia\n",
    "6. Scala\n",
    "7. C/C++"
   ]
  },
  {
   "cell_type": "markdown",
   "id": "10bf0be4-10cd-426f-8842-b35d8e7e22b8",
   "metadata": {},
   "source": [
    "#### Some of the commonly used libraries used by Data Scientists include:\n",
    "1. Pandas\n",
    "2. NumPy\n",
    "3. Matplotlib \n",
    "4. Scikit-learn\n",
    "5. TensorFlow\n",
    "6. PyTorch \n",
    "7. SciPy"
   ]
  },
  {
   "cell_type": "markdown",
   "id": "262b7a20-2de0-4c6c-afa4-ab36bb35a646",
   "metadata": {},
   "source": [
    "|Data Science Tools|\n",
    "|------------------|\n",
    "| Jupyter Lab      |\n",
    "| RStudio          |\n",
    "| PyCharm          |"
   ]
  },
  {
   "cell_type": "markdown",
   "id": "f6eb6641-7972-40e0-b861-834404d19779",
   "metadata": {},
   "source": [
    "### Below are a few examples of evaluating arithmetic expressions in Python:"
   ]
  },
  {
   "cell_type": "code",
   "execution_count": 2,
   "id": "2a309ea4-3300-4d34-bef9-c609b61cebe7",
   "metadata": {},
   "outputs": [
    {
     "data": {
      "text/plain": [
       "17"
      ]
     },
     "execution_count": 2,
     "metadata": {},
     "output_type": "execute_result"
    }
   ],
   "source": [
    "#  This a simple arithmetic expression to mutiply then add integers\n",
    "(3*4)+5"
   ]
  },
  {
   "cell_type": "code",
   "execution_count": 3,
   "id": "0888248a-cb10-47c6-80f6-d40f830766f9",
   "metadata": {},
   "outputs": [
    {
     "data": {
      "text/plain": [
       "3.3333333333333335"
      ]
     },
     "execution_count": 3,
     "metadata": {},
     "output_type": "execute_result"
    }
   ],
   "source": [
    "#  This will convert 200 minutes to hours by diving by 60\n",
    "200.0/60.0"
   ]
  },
  {
   "cell_type": "markdown",
   "id": "0b4a2b0e-6877-4c02-aca6-475c1663db45",
   "metadata": {},
   "source": [
    "## Author\n",
    "Teila McKinley"
   ]
  },
  {
   "cell_type": "code",
   "execution_count": null,
   "id": "7cb416a6-1dbe-40cf-9e5a-70de5830945c",
   "metadata": {},
   "outputs": [],
   "source": []
  }
 ],
 "metadata": {
  "kernelspec": {
   "display_name": "Python 3 (ipykernel)",
   "language": "python",
   "name": "python3"
  },
  "language_info": {
   "codemirror_mode": {
    "name": "ipython",
    "version": 3
   },
   "file_extension": ".py",
   "mimetype": "text/x-python",
   "name": "python",
   "nbconvert_exporter": "python",
   "pygments_lexer": "ipython3",
   "version": "3.13.4"
  }
 },
 "nbformat": 4,
 "nbformat_minor": 5
}
